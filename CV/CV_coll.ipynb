{
 "cells": [
  {
   "cell_type": "code",
   "execution_count": 1,
   "metadata": {},
   "outputs": [],
   "source": [
    "import cv2\n",
    "import matplotlib.pyplot as plt\n",
    "import numpy as np"
   ]
  },
  {
   "cell_type": "code",
   "execution_count": null,
   "metadata": {},
   "outputs": [],
   "source": [
    "img = cv2.imread('CV/image/car.jpg')\n",
    "# print(img)\n",
    "plt.subplot(1,2,1)\n",
    "plt.title('Original')\n",
    "plt.imshow(img)"
   ]
  },
  {
   "cell_type": "markdown",
   "metadata": {},
   "source": [
    "##### Lec (  3  )  #######"
   ]
  },
  {
   "cell_type": "code",
   "execution_count": null,
   "metadata": {},
   "outputs": [],
   "source": [
    "# gray_img = cv2.cvtColor(img , cv2.COLOR_BGR2GRAY)\n",
    "# Equalized_img = cv2.equalizeHist(gray_img)\n",
    "\n",
    "# cv2.imwrite('Equalized .jpg',Equalized_img)\n",
    "\n",
    "# plt.subplot(1,2,1)\n",
    "# plt.title('Equalized')\n",
    "# plt.imshow(Equalized_img)\n",
    "# plt.show()"
   ]
  },
  {
   "cell_type": "code",
   "execution_count": null,
   "metadata": {},
   "outputs": [],
   "source": [
    "# inverse_img = 255 - img\n",
    "# cv2.imwrite('inverse_img.jpg',inverse_img)\n",
    "\n",
    "# plt.subplot(1,2,1)\n",
    "# plt.title('inverse Color')\n",
    "# plt.imshow(inverse_img)\n",
    "# plt.show()"
   ]
  },
  {
   "cell_type": "code",
   "execution_count": null,
   "metadata": {},
   "outputs": [],
   "source": [
    "# img = cv2.cvtColor(img , cv2.COLOR_RGB2HSV)\n",
    "# img[:, :, 0] = img[:, :, 0] * 0.7\n",
    "# img[:, :, 1] = img[:, :, 1] * 1.5\n",
    "# img[:, :, 2] = img[:, :, 2] * 0.5\n",
    "\n",
    "# img2 = cv2.cvtColor(img , cv2.COLOR_HSV2BGR)\n",
    "# cv2.imwrite('enhanced Coloured.jpg',img2)\n",
    "\n",
    "# plt.subplot(1,2,1)\n",
    "# plt.title('enhanced Coloured')\n",
    "# plt.imshow(img2)\n",
    "# plt.show()"
   ]
  },
  {
   "cell_type": "code",
   "execution_count": null,
   "metadata": {},
   "outputs": [],
   "source": [
    "\n",
    "# filtered_img = cv2.medianBlur(img,11)\n",
    "# cv2.imwrite('filtered.jpg',filtered_img)\n",
    "\n",
    "# plt.subplot(1,2,1)\n",
    "# plt.title('filtered')\n",
    "# plt.imshow(filtered_img)\n",
    "# plt.show()"
   ]
  },
  {
   "cell_type": "code",
   "execution_count": null,
   "metadata": {},
   "outputs": [],
   "source": [
    "# kernal = np.array([[0,-1,0],[-1,5,-1],[0,-1,0]])\n",
    "# sharpened_img = cv2.filter2D(img , -1 ,kernal )\n",
    "# cv2.imwrite('sharpend.jpg',sharpened_img)\n",
    "\n",
    "# plt.subplot(1,2,1)\n",
    "# plt.title('sharpening')\n",
    "# plt.imshow(sharpened_img)\n",
    "# plt.show()\n"
   ]
  },
  {
   "cell_type": "code",
   "execution_count": null,
   "metadata": {},
   "outputs": [],
   "source": [
    "# brightness = 10\n",
    "# contrast = 2.3\n",
    "# img2 = cv2.addWeighted(img,contrast, np.zeros(img.shape,img.dtype),0,brightness)\n",
    "# cv2.imwrite('Modified_image.jpg',img2)\n",
    "\n",
    "# plt.subplot(1,2,1)\n",
    "# plt.title('Brightness & Contrast')\n",
    "# plt.imshow(img2)\n",
    "# plt.show()"
   ]
  },
  {
   "cell_type": "markdown",
   "metadata": {},
   "source": [
    "### lec 4"
   ]
  },
  {
   "cell_type": "code",
   "execution_count": 8,
   "metadata": {},
   "outputs": [],
   "source": [
    "# img2 = cv2.imread('CV/image/baby.jpg')\n",
    "\n",
    "# dimensions = img2.shape()\n",
    "\n",
    "# height = img2.shape[0]\n",
    "# width = img2.shape[1]\n",
    "# channels = img2.shape[2]\n",
    "\n",
    "# print ('Image Dimensions   : ' ,dimensions )\n",
    "# print ('Image Height       :' ,height)\n",
    "# print('Image Width         :',width)\n",
    "# print('Number Of Channels  :',channels)"
   ]
  },
  {
   "cell_type": "code",
   "execution_count": 5,
   "metadata": {},
   "outputs": [
    {
     "name": "stdout",
     "output_type": "stream",
     "text": [
      "Failed to load the image.\n"
     ]
    }
   ],
   "source": [
    "# img2 = cv2.imread('CV/image/baby.jpg')\n",
    "\n",
    "# if img2 is not None:\n",
    "#     dimensions = img2.shape\n",
    "#     height = img2.shape[0]\n",
    "#     width = img2.shape[1]\n",
    "# else:\n",
    "#     print(\"Failed to load the image.\")\n"
   ]
  },
  {
   "cell_type": "code",
   "execution_count": null,
   "metadata": {},
   "outputs": [],
   "source": []
  },
  {
   "cell_type": "code",
   "execution_count": null,
   "metadata": {},
   "outputs": [],
   "source": []
  }
 ],
 "metadata": {
  "kernelspec": {
   "display_name": "Python 3",
   "language": "python",
   "name": "python3"
  },
  "language_info": {
   "codemirror_mode": {
    "name": "ipython",
    "version": 3
   },
   "file_extension": ".py",
   "mimetype": "text/x-python",
   "name": "python",
   "nbconvert_exporter": "python",
   "pygments_lexer": "ipython3",
   "version": "3.11.2"
  }
 },
 "nbformat": 4,
 "nbformat_minor": 2
}
