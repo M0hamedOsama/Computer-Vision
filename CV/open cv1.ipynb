{
 "cells": [
  {
   "cell_type": "code",
   "execution_count": 1,
   "metadata": {},
   "outputs": [],
   "source": [
    "import cv2\n"
   ]
  },
  {
   "cell_type": "markdown",
   "metadata": {},
   "source": [
    "## عرض ابعاد الصوره"
   ]
  },
  {
   "cell_type": "code",
   "execution_count": 3,
   "metadata": {},
   "outputs": [
    {
     "name": "stdout",
     "output_type": "stream",
     "text": [
      "[[[227 227 227]\n",
      "  [235 235 235]\n",
      "  [236 236 236]\n",
      "  ...\n",
      "  [237 237 237]\n",
      "  [236 236 236]\n",
      "  [228 228 228]]\n",
      "\n",
      " [[250 250 250]\n",
      "  [255 255 255]\n",
      "  [255 255 255]\n",
      "  ...\n",
      "  [255 255 255]\n",
      "  [255 255 255]\n",
      "  [249 249 249]]\n",
      "\n",
      " [[247 247 247]\n",
      "  [255 255 255]\n",
      "  [255 255 255]\n",
      "  ...\n",
      "  [255 255 255]\n",
      "  [254 254 254]\n",
      "  [246 246 246]]\n",
      "\n",
      " ...\n",
      "\n",
      " [[247 247 247]\n",
      "  [255 255 255]\n",
      "  [255 255 255]\n",
      "  ...\n",
      "  [253 253 253]\n",
      "  [255 255 255]\n",
      "  [246 246 246]]\n",
      "\n",
      " [[247 247 247]\n",
      "  [255 255 255]\n",
      "  [255 255 255]\n",
      "  ...\n",
      "  [253 253 253]\n",
      "  [255 255 255]\n",
      "  [246 246 246]]\n",
      "\n",
      " [[247 247 247]\n",
      "  [255 255 255]\n",
      "  [255 255 255]\n",
      "  ...\n",
      "  [253 253 253]\n",
      "  [255 255 255]\n",
      "  [246 246 246]]]\n"
     ]
    }
   ],
   "source": [
    "img = cv2.imread('image/car.jpg')\n",
    "print(img)"
   ]
  },
  {
   "cell_type": "code",
   "execution_count": 4,
   "metadata": {},
   "outputs": [
    {
     "data": {
      "text/plain": [
       "-1"
      ]
     },
     "execution_count": 4,
     "metadata": {},
     "output_type": "execute_result"
    }
   ],
   "source": [
    "img2 = cv2.imread('image/car.jpg')\n",
    "cv2.imshow('frame', img2)\n",
    "cv2.waitKey(0)"
   ]
  },
  {
   "cell_type": "markdown",
   "metadata": {},
   "source": [
    "## عرض ابعاد الصوره والبكسلات "
   ]
  },
  {
   "cell_type": "code",
   "execution_count": 5,
   "metadata": {},
   "outputs": [
    {
     "name": "stdout",
     "output_type": "stream",
     "text": [
      "number of pixels : 2764800\n",
      "dimensions : (720, 1280, 3)\n"
     ]
    },
    {
     "data": {
      "text/plain": [
       "-1"
      ]
     },
     "execution_count": 5,
     "metadata": {},
     "output_type": "execute_result"
    }
   ],
   "source": [
    "# img3= cv2.imread('image/car.jpg')\n",
    "# pixels = img3.size\n",
    "# dimesions = img3.shape\n",
    "# cv2.imshow('frame' , img3)\n",
    "# print('number of pixels :' ,pixels)\n",
    "# print(\"dimensions :\" , dimesions)\n",
    "# cv2.waitKey(0)"
   ]
  },
  {
   "cell_type": "markdown",
   "metadata": {},
   "source": [
    "## تغيير حجم الصوره والنافذه \n"
   ]
  },
  {
   "cell_type": "code",
   "execution_count": null,
   "metadata": {},
   "outputs": [],
   "source": [
    "# img4 = cv2.imread('image/car.jpg')\n",
    "# new_img4 = cv2.resize(img4 , (200,400))\n",
    "# cv2.imshow('size img ' , new_img4)\n",
    "# # cv2.imshow('size img ' , img4)\n",
    "# cv2.waitKey(0)\n"
   ]
  },
  {
   "cell_type": "markdown",
   "metadata": {},
   "source": [
    "## حفظ الصوره بعد تغيير الابعاد"
   ]
  },
  {
   "cell_type": "code",
   "execution_count": 6,
   "metadata": {},
   "outputs": [
    {
     "data": {
      "text/plain": [
       "True"
      ]
     },
     "execution_count": 6,
     "metadata": {},
     "output_type": "execute_result"
    }
   ],
   "source": [
    "# new_width = 500  \n",
    "# new_height = 300 \n",
    "# resized_image = cv2.resize(img, (new_width, new_height))\n",
    "# cv2.imwrite('output_image.jpg', resized_image)"
   ]
  },
  {
   "cell_type": "markdown",
   "metadata": {},
   "source": [
    "## التعامل مع نظام الالوان في الصور\n"
   ]
  },
  {
   "cell_type": "code",
   "execution_count": 7,
   "metadata": {},
   "outputs": [
    {
     "data": {
      "text/plain": [
       "-1"
      ]
     },
     "execution_count": 7,
     "metadata": {},
     "output_type": "execute_result"
    }
   ],
   "source": [
    "# img5 = cv2.imread('image/car.jpg')\n",
    "# gray = cv2.cvtColor(img5,cv2.COLOR_BGR2GRAY)\n",
    "# cv2.imshow('frame' , gray)\n",
    "# cv2.waitKey(0)"
   ]
  },
  {
   "cell_type": "markdown",
   "metadata": {},
   "source": [
    "## تخصيص الزر لعرض الزر و حفظ االصوره\n"
   ]
  },
  {
   "cell_type": "code",
   "execution_count": 3,
   "metadata": {},
   "outputs": [],
   "source": [
    "# img6 = cv2.imread('image/car.jpg' , 0)\n",
    "# cv2.imshow('frame' , img6)\n",
    "\n",
    "# y = cv2.waitKey(0)\n",
    "# if y == 27:              ### 27 ====== ESC \n",
    "#      cv2.destroyWindow('frame')\n",
    "     \n",
    "# elif y == ord('s') :\n",
    "#      cv2.imwrite('C:\\\\ graycar.jpg', img6)\n",
    "#      cv2.destroyAllWindow()  "
   ]
  },
  {
   "cell_type": "markdown",
   "metadata": {},
   "source": [
    "## رسم الاشكال والكتابه علي الصور\n"
   ]
  },
  {
   "cell_type": "code",
   "execution_count": 5,
   "metadata": {},
   "outputs": [
    {
     "data": {
      "text/plain": [
       "-1"
      ]
     },
     "execution_count": 5,
     "metadata": {},
     "output_type": "execute_result"
    }
   ],
   "source": [
    "# img7 = cv2.imread('image/baby.png')\n",
    "\n",
    "# cv2.line(img7,(10,10),(200,10),(0,255,0),10)            # line\n",
    "\n",
    "# cv2.rectangle(img7, (400,100),(600,300),(0,255,0),4)      # rectangle\n",
    "\n",
    "# cv2.putText(img7,'face baby',(400,120),cv2.FONT_HERSHEY_COMPLEX,1,(255,0,0),2)      # text\n",
    "\n",
    "# cv2.imshow('frame' , img7)\n",
    "# cv2.waitKey(0)"
   ]
  },
  {
   "cell_type": "markdown",
   "metadata": {},
   "source": [
    "### عرض الفيديوهات \n"
   ]
  },
  {
   "cell_type": "code",
   "execution_count": 6,
   "metadata": {},
   "outputs": [],
   "source": [
    "# cam = cv2.VideoCapture('videos/apple.mp4') \n",
    "\n",
    "# while True:\n",
    "#     ret , frame = cam.read()\n",
    "#     cv2.imshow('video',frame)\n",
    "#     if cv2.waitKey(1) & 0xff == ord('q') :                 ### تخصيص زر لقفل البرنامج \n",
    "#         break\n",
    "\n",
    "# cam.release()\n",
    "# cv2.destroyAllWindows()    "
   ]
  },
  {
   "cell_type": "markdown",
   "metadata": {},
   "source": [
    "## تشغيل الكاميرا "
   ]
  },
  {
   "cell_type": "code",
   "execution_count": 7,
   "metadata": {},
   "outputs": [],
   "source": [
    "# cam = cv2.VideoCapture(0)            ### مكان الباس = 0\n",
    "\n",
    "# while True:\n",
    "#     ret , frame = cam.read()\n",
    "#     cv2.imshow('video',frame)\n",
    "#     if cv2.waitKey(1) & 0xff == ord('q') :               \n",
    "#         break\n",
    "\n",
    "# cam.release()\n",
    "# cv2.destroyAllWindows() \n"
   ]
  },
  {
   "cell_type": "code",
   "execution_count": null,
   "metadata": {},
   "outputs": [],
   "source": [
    "# camera = cv2.VideoCapture(0)               ### 1 --->  كاميرا خارجيه \n",
    "\n",
    "# while True :\n",
    "#     ret, video = camera.read()\n",
    "#     new_cam = cv2.resize(video,(300,200))\n",
    "#     cv2.imshow('Mohamed',new_cam)\n",
    "#     cv2.waitKey(1)\n",
    "#     if cv2.waitKey(1) & 0xff == ord('q') :                 ### تخصيص زر لقفل البرنامج \n",
    "#       break "
   ]
  },
  {
   "cell_type": "markdown",
   "metadata": {},
   "source": [
    "### تحويل الفيديو للابيض والاسود\n"
   ]
  },
  {
   "cell_type": "code",
   "execution_count": null,
   "metadata": {},
   "outputs": [],
   "source": [
    "# cam = cv2.VideoCapture('videos/apple.mp4')\n",
    "\n",
    "# while True:\n",
    "#     ret , frame = cam.read()\n",
    "#     gray = cv2.cvtColor(frame,cv2.COLOR_BGR2GRAY)\n",
    "#     cv2.imshow('video', gray)\n",
    "\n",
    "#     if cv2.waitKey(1) & 0xff == ord('q') :                 ### تخصيص زر لقفل البرنامج \n",
    "#         break\n"
   ]
  },
  {
   "cell_type": "markdown",
   "metadata": {},
   "source": [
    "### تغير حجم الفيديو\n"
   ]
  },
  {
   "cell_type": "code",
   "execution_count": 2,
   "metadata": {},
   "outputs": [],
   "source": [
    "# cam = cv2.VideoCapture('videos/apple.mp4')\n",
    "\n",
    "# while True:\n",
    "#     ret , frame = cam.read()\n",
    "#     size = cv2.resize(frame,(400,300))             \n",
    "#     cv2.imshow('video', size)\n",
    "\n",
    "#     if cv2.waitKey(1) & 0xff == ord('q') :                 ### تخصيص زر لقفل البرنامج \n",
    "#         break    "
   ]
  },
  {
   "cell_type": "code",
   "execution_count": null,
   "metadata": {},
   "outputs": [],
   "source": []
  }
 ],
 "metadata": {
  "kernelspec": {
   "display_name": "Python 3",
   "language": "python",
   "name": "python3"
  },
  "language_info": {
   "codemirror_mode": {
    "name": "ipython",
    "version": 3
   },
   "file_extension": ".py",
   "mimetype": "text/x-python",
   "name": "python",
   "nbconvert_exporter": "python",
   "pygments_lexer": "ipython3",
   "version": "3.11.2"
  }
 },
 "nbformat": 4,
 "nbformat_minor": 2
}
